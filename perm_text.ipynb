{
 "cells": [
  {
   "cell_type": "code",
   "execution_count": 81,
   "metadata": {},
   "outputs": [],
   "source": [
    "import json\n",
    "import math\n",
    "import argparse\n",
    "import logging\n",
    "from typing import Literal, NoReturn\n",
    "\n",
    "import pandas as pd # type: ignore\n",
    "import numpy as np # type: ignore\n",
    "from scipy.interpolate import interp1d # type: ignore"
   ]
  },
  {
   "cell_type": "markdown",
   "metadata": {},
   "source": [
    "## Load Data"
   ]
  },
  {
   "cell_type": "code",
   "execution_count": 2,
   "metadata": {},
   "outputs": [],
   "source": [
    "additionality = pd.read_csv(\"/maps/jh2589/tmf_pipe_out/redd/additionality/1201-additionality.csv\", index_col=\"year\")\n",
    "leakage = pd.read_csv(\"/maps/jh2589/tmf_pipe_out/redd/leakage/1201-leakage.csv\", index_col=\"year\")\n",
    "scc = pd.read_csv(\"/home/jh2589/tmf-implementation/scc_extended.csv\")\n",
    "scc = scc[['year', 'central']]"
   ]
  },
  {
   "cell_type": "markdown",
   "metadata": {},
   "source": [
    "### Define Net DF Function\n",
    "\n",
    "The `net_additionality` function calculates the net additionality by merging the `additionality` and `leakage` dataframes on the 'year' column. It then computes the net value for each year by summing the additionality and leakage values. The function also calculates the yearly change in net additionality and a rolling average of these changes over a specified period. The first eleven rows are dropped to remove data from before the project started. The resulting dataframe includes columns for the year (`year`), additionality (`additionality`), leakage (`leakage`), net additionality (`net`), year on year change in net additionality (`year_change`), and the subsequent rolling average of year changes (`year_avg`). For this latter metric, the `period` for the rolling averages is set any time frame deemed suitable. In the PACT methodology this is 5 years. The last row value for `year_avg` is equivalent to the *R* rate in PACT."
   ]
  },
  {
   "cell_type": "code",
   "execution_count": 3,
   "metadata": {},
   "outputs": [],
   "source": [
    "def net_additionality(additionality, leakage, period):\n",
    "    # Merge on the 'year' column\n",
    "    net_df = pd.merge(additionality, leakage, on='year')\n",
    "\n",
    "    # Calculate net value (additionality + leakage) for each year\n",
    "    net_df['net'] = net_df['additionality'] + net_df['leakage']\n",
    "\n",
    "    # Add yearly change column\n",
    "    net_df['yearly_change'] = net_df['net'].diff()\n",
    "\n",
    "    # Drop the first eleven rows (these have data from prior to the project)\n",
    "    net_df = net_df.iloc[11:].reset_index(drop=False)\n",
    "\n",
    "    # Calculate rolling average yearly change in net additionaltiy\n",
    "    net_df['year_avg'] = net_df['yearly_change'].rolling(window=period).mean()\n",
    "\n",
    "    return net_df"
   ]
  },
  {
   "cell_type": "markdown",
   "metadata": {},
   "source": [
    "### Define Forecaster Function\n",
    "\n",
    "The `forecaster` function projects the net additionality values into the future until a specified project end year. It starts by extracting the last row's values from the `net_df` dataframe, including the year, net additionality, and the rolling average of yearly changes. The function then grows the net value by the yearly average change until the project end year. After the project end year, it shrinks the net value by the yearly change until it hits zero. The function ensures the last value is zero and adjusts the last yearly change accordingly. The resulting dataframe includes columns for the year (`year`), net additionality (`net`), yearly change in net additionality (`year_change`), and the social cost of carbon discount (`scc_discount`). The `scc_discount` is calculated for each year using the `scc` dataframe and the specified discount rate (`delta`). In the PACT Metholodogy, this is set at 3%"
   ]
  },
  {
   "cell_type": "code",
   "execution_count": 99,
   "metadata": {},
   "outputs": [],
   "source": [
    "def forecaster(net_df, project_end, scc, delta):\n",
    "    # Extract the last row's values\n",
    "    last_row = net_df.iloc[-1]\n",
    "    year = last_row['year']\n",
    "    net = last_row['net']\n",
    "    year_change = last_row['year_avg']\n",
    "\n",
    "    # Initialize a list to store the projected net values\n",
    "    forecast_df = []\n",
    "\n",
    "    # fix eval year\n",
    "    eval_year = year\n",
    "\n",
    "    # Grow the net value by the yearly average change until project_end\n",
    "    while year <= project_end:\n",
    "        year_growth = year_change\n",
    "        forecast_df.append({'year': year, 'net': net, 'year_change': year_growth})\n",
    "        net += year_change\n",
    "        year += 1\n",
    "\n",
    "    # After project_end, shrink the net value by the yearly change until it hits zero\n",
    "    while net >= 0 + year_change:\n",
    "        year_decline = -year_change\n",
    "        net += year_decline\n",
    "        forecast_df.append({'year': year, 'net': net, 'year_change': year_decline})\n",
    "        year += 1\n",
    "\n",
    "    # Ensure the last value is zero and adjust the last yearly change accordingly\n",
    "    if net < 0 + year_change:\n",
    "        remaining_year_decline = -(net % year_change)\n",
    "        net += remaining_year_decline\n",
    "        forecast_df.append({'year': year, 'net': net, 'year_change': remaining_year_decline})\n",
    "\n",
    "    # Convert the list to a DataFrame\n",
    "    forecast_df = pd.DataFrame(forecast_df)\n",
    "\n",
    "    # Calculate the scc_discount for each year\n",
    "    forecast_df['scc_discount'] = forecast_df.apply(\n",
    "        lambda row: scc.loc[scc['year'] == row['year'], 'central'].values[0] / ((1 + delta) ** (row['year'] - eval_year)),\n",
    "        axis=1\n",
    "    )\n",
    "\n",
    "    return forecast_df"
   ]
  },
  {
   "cell_type": "markdown",
   "metadata": {},
   "source": [
    "### Define Equivalent Perm Function\n",
    "\n",
    "The `equivalent_perm` function calculates the equivalent permanent value of the forecasted net additionality. It starts by extracting the first row's net additionality value (`eval_net`) from the `forecast_df` dataframe. This corresponds to the total cumulative additionality from the start of the evaluation period to the end of the evaluation period. Determining a hypothetical permanent value for this additionality (`value_perm`), the value is multiplied by the social cost of carbon in the year at the end of the evaluation period (`eval_scc_discount`):\n",
    "\n",
    "$$\\text{Permanent Value} = (\\text{Evaluation\\;Year\\;Net\\;Additionality})\\times(\\text{Evaluation\\;Year\\;SCC\\;Discount})$$\n",
    "\n",
    "The function then calculates how many years of draw-down it would take for the evaluation year net additionality to hit zero (by dividing evaluation year net additionality by the evaluation year year on year change). Starting at the last row on `forcast_df` and working backwards across the years corresponding to the years of drawn-down, it mutliplies each negative year change in carbon additionality (negative thus meaning a release of carbon).\n",
    "\n",
    "$$\\text{Draw-Down Period} = \\left\\lceil \\frac{\\text{Evaluation Year Net Additionality}}{\\text{Evaluation Year Change}} \\right\\rceil$$\n",
    "\n",
    "Starting at the last row on `forcast_df` and working backwards across the years corresponding to the years of drawn-down, it mutliplies each negative year change in carbon additionality (negative thus meaning a release of carbon) by that years forecasted social cost of carbon (SCC).\n",
    "The sum of these negative values corresponds to the damage caused by the emissions:\n",
    "\n",
    "$$\\text{Damage} = \\sum_{i=1}^{\\text{Draw-Down Years}} \\left( \\text{Drawn-Down Year Change}_i \\times \\text{Discounted SCC}_i \\right)$$\n",
    "\n",
    "\n",
    "Due to the discounting of SCC, this damage metric will always be less that the equivalent damage caused if the emissions were released during the evaluation period. Thus, to determine an equivalent permanance, the negative damage is applied to the hypothetical permanent value. This remaining figure represents carbon that has an equivalent permemance. To work out this as a ratio this equivalent permance figure is divided by the hypotheical total permance.\n",
    "\n",
    "$$\\text{Equivalent Permance} = \\frac{\\text{Permanent Value} + \\text{Damage}}{\\text{Permanent Value}}$$"
   ]
  },
  {
   "cell_type": "code",
   "execution_count": 111,
   "metadata": {},
   "outputs": [],
   "source": [
    "def equivalent_perm(forecast_df, project_end):\n",
    "    # Extract the eval row's net value and yearly change\n",
    "    eval_row = forecast_df.iloc[0]\n",
    "    eval_net = eval_row['net']\n",
    "    print(eval_net)\n",
    "    eval_year_change = eval_row['year_change']\n",
    "    print(eval_year_change)\n",
    "    eval_scc_discount = eval_row['scc_discount']\n",
    "\n",
    "    # Calculate the number of rows from the end corresponding to the draw-down period\n",
    "    draw_down_len = math.ceil(eval_net / eval_year_change)\n",
    "    print(draw_down_len)\n",
    "    # Calculate the hypothetical permanent value (would also be the damage if all additionality was released in evaluation period)\n",
    "    value_perm = eval_net * eval_scc_discount\n",
    "    \n",
    "    # Calculate the sum of all the yearly change values * their scc discount from the calculated row until the end, counting backwards\n",
    "    draw_down_index = len(forecast_df) - draw_down_len\n",
    "    damage_rows = forecast_df.iloc[draw_down_index:]\n",
    "    damage = damage_rows.apply(\n",
    "        lambda row: row['year_change'] * row['scc_discount'], axis=1\n",
    "    ).sum()\n",
    "\n",
    "    # Calculate E-Perm\n",
    "    eperm = (value_perm + damage) / value_perm\n",
    "\n",
    "    return eperm\n"
   ]
  },
  {
   "cell_type": "markdown",
   "metadata": {},
   "source": []
  },
  {
   "cell_type": "code",
   "execution_count": 110,
   "metadata": {},
   "outputs": [
    {
     "name": "stdout",
     "output_type": "stream",
     "text": [
      "497080.5915982798\n",
      "161561.018484284\n",
      "4\n",
      "44\n",
      "      year            net    year_change  scc_discount\n",
      "44  2065.0  335519.573114 -161561.018484    128.831853\n",
      "45  2066.0  173958.554630 -161561.018484    126.930539\n",
      "46  2067.0   12397.536145 -161561.018484    125.030689\n",
      "47  2068.0       0.000000  -12397.536145    123.383089\n",
      "-63050964.39960332\n",
      "Equivalent Permanance Ratio = 0.4822753504156079\n"
     ]
    }
   ],
   "source": [
    "net_df = net_additionality(additionality, leakage, 5)\n",
    "\n",
    "proj_df = forecaster(net_df, 2042, scc, 0.03)\n",
    "\n",
    "ep = equivalent_perm(proj_df, 2042)\n",
    "\n",
    "print(\"Equivalent Permanance Ratio =\",ep)"
   ]
  }
 ],
 "metadata": {
  "kernelspec": {
   "display_name": "venv",
   "language": "python",
   "name": "python3"
  },
  "language_info": {
   "codemirror_mode": {
    "name": "ipython",
    "version": 3
   },
   "file_extension": ".py",
   "mimetype": "text/x-python",
   "name": "python",
   "nbconvert_exporter": "python",
   "pygments_lexer": "ipython3",
   "version": "3.12.3"
  }
 },
 "nbformat": 4,
 "nbformat_minor": 2
}
